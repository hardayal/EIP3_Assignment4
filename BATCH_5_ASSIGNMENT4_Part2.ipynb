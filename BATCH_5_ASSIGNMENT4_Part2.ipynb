{
  "nbformat": 4,
  "nbformat_minor": 0,
  "metadata": {
    "colab": {
      "name": "HARDAYAL_SINGH_BATCH_5_ASSIGNMENT4_ImagenetDensenet2.ipynb",
      "version": "0.3.2",
      "provenance": [],
      "collapsed_sections": []
    },
    "kernelspec": {
      "display_name": "Python 3",
      "language": "python",
      "name": "python3"
    },
    "accelerator": "TPU"
  },
  "cells": [
    {
      "metadata": {
        "colab_type": "code",
        "id": "pndS1tLQsWBu",
        "outputId": "442da859-e9c6-4bb2-83d5-7002d3291678",
        "colab": {
          "base_uri": "https://localhost:8080/",
          "height": 136
        }
      },
      "cell_type": "code",
      "source": [
        "#With moderate augmentation and 64x64\n",
        "model.fit_generator(initial_epoch=29, \n",
        "                    generator=train_generator,\n",
        "                    steps_per_epoch=STEP_SIZE_TRAIN,\n",
        "                    validation_data=val_generator,\n",
        "                    validation_steps=STEP_SIZE_VALID,\n",
        "                    epochs=NUM_EPOCHS, verbose=1,\n",
        "                    callbacks=[lr_reducer, early_stopping, csv_logger, model_checkpoint])"
      ],
      "execution_count": 0,
      "outputs": [
        {
          "output_type": "stream",
          "text": [
            "Epoch 30/50\n",
            "4166/4166 [==============================] - 8900s 2s/step - loss: 2.0637 - acc: 0.5313 - val_loss: 2.0083 - val_acc: 0.5229\n",
            "Current learning rate 0.001 51523\n",
            "\n",
            "Epoch 00030: saving model to Imagenetvdbig.hdf5\n",
            "Epoch 31/50\n",
            "   3/4166 [..............................] - ETA: 2:26:33 - loss: 1.8809 - acc: 0.6250"
          ],
          "name": "stdout"
        }
      ]
    },
    {
      "metadata": {
        "colab_type": "code",
        "id": "bXr2bEbabdlA",
        "outputId": "1a313ac8-dc1f-46f0-90a0-89b520a160aa",
        "colab": {
          "base_uri": "https://localhost:8080/",
          "height": 34
        }
      },
      "cell_type": "code",
      "source": [
        "k.set_value(model.optimizer.lr, 0.0002)"
      ],
      "execution_count": 0,
      "outputs": [
        {
          "output_type": "execute_result",
          "data": {
            "text/plain": [
              "0.0002"
            ]
          },
          "metadata": {
            "tags": []
          },
          "execution_count": 10
        }
      ]
    },
    {
      "metadata": {
        "colab_type": "code",
        "id": "N5pQoopOtnHr",
        "outputId": "9708bb04-0811-4b26-85a8-b34e038e70e8",
        "colab": {
          "base_uri": "https://localhost:8080/",
          "height": 255
        }
      },
      "cell_type": "code",
      "source": [
        "#With heavy augmentation and reduced learning rate\n",
        "model.fit_generator(initial_epoch=31, \n",
        "                    generator=train_generator,\n",
        "                    steps_per_epoch=STEP_SIZE_TRAIN,\n",
        "                    validation_data=val_generator,\n",
        "                    validation_steps=STEP_SIZE_VALID,\n",
        "                    epochs=NUM_EPOCHS, verbose=1,\n",
        "                    callbacks=[lr_reducer, early_stopping, csv_logger, model_checkpoint])"
      ],
      "execution_count": 0,
      "outputs": [
        {
          "output_type": "stream",
          "text": [
            "Epoch 32/50\n",
            "4166/4166 [==============================] - 8921s 2s/step - loss: 2.5294 - acc: 0.4344 - val_loss: 1.8326 - val_acc: 0.5652\n",
            "Current learning rate 0.0002 59953\n",
            "Saving to id 1wBERqhpP07YuWlpkpYAMQTi5GMSRRkIu\n",
            "\n",
            "Epoch 00032: saving model to Imagenetvdbig.hdf5\n",
            "Epoch 33/50\n",
            "4166/4166 [==============================] - 8916s 2s/step - loss: 2.3288 - acc: 0.4751 - val_loss: 1.8353 - val_acc: 0.5692\n",
            "Current learning rate 0.0002 64119\n",
            "Saving to id 1wrrQOECuO3IM0KySYpqye70UBqOfffDL\n",
            "\n",
            "Epoch 00033: saving model to Imagenetvdbig.hdf5\n",
            "Epoch 34/50\n",
            "2885/4166 [===================>..........] - ETA: 44:28 - loss: 2.3016 - acc: 0.4789"
          ],
          "name": "stdout"
        }
      ]
    },
    {
      "metadata": {
        "colab_type": "code",
        "id": "OaYppiN4Ltc6",
        "outputId": "08a41199-fe9c-4e64-b228-c66e7806c662",
        "colab": {
          "base_uri": "https://localhost:8080/",
          "height": 202
        }
      },
      "cell_type": "code",
      "source": [
        "#Removed augmentation\n",
        "model.fit_generator(initial_epoch=33, \n",
        "                    generator=train_generator,\n",
        "                    steps_per_epoch=STEP_SIZE_TRAIN,\n",
        "                    validation_data=val_generator,\n",
        "                    validation_steps=STEP_SIZE_VALID,\n",
        "                    epochs=35, verbose=1,\n",
        "                    callbacks=[lr_reducer, early_stopping, csv_logger, model_checkpoint])"
      ],
      "execution_count": 0,
      "outputs": [
        {
          "output_type": "stream",
          "text": [
            "Epoch 34/35\n",
            "4166/4166 [==============================] - 8740s 2s/step - loss: 1.2309 - acc: 0.7307 - val_loss: 1.6902 - val_acc: 0.5957\n",
            "Current learning rate 0.0002 68285\n",
            "\n",
            "Epoch 00034: saving model to Imagenetvdbig.hdf5\n",
            "Epoch 35/35\n",
            "4166/4166 [==============================] - 8684s 2s/step - loss: 1.0157 - acc: 0.8002 - val_loss: 1.7079 - val_acc: 0.5998\n",
            "Current learning rate 0.0002 72451\n",
            "\n",
            "Epoch 00035: saving model to Imagenetvdbig.hdf5\n"
          ],
          "name": "stdout"
        },
        {
          "output_type": "execute_result",
          "data": {
            "text/plain": [
              "<keras.callbacks.History at 0x7f64cf0bd5f8>"
            ]
          },
          "metadata": {
            "tags": []
          },
          "execution_count": 16
        }
      ]
    },
    {
      "metadata": {
        "colab_type": "code",
        "id": "t8IJE9-R7Fao",
        "colab": {}
      },
      "cell_type": "code",
      "source": [
        ""
      ],
      "execution_count": 0,
      "outputs": []
    }
  ]
}