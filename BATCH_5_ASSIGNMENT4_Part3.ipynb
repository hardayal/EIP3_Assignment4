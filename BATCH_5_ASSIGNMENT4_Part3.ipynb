{
  "nbformat": 4,
  "nbformat_minor": 0,
  "metadata": {
    "colab": {
      "name": "HARDAYAL_SINGH_BATCH_5_ASSIGNMENT4_ImagenetDensenet3.ipynb",
      "version": "0.3.2",
      "provenance": [],
      "collapsed_sections": []
    },
    "kernelspec": {
      "display_name": "Python 3",
      "language": "python",
      "name": "python3"
    },
    "accelerator": "TPU"
  },
  "cells": [
    {
      "metadata": {
        "colab_type": "code",
        "id": "NHAZPhA39Tli",
        "outputId": "b8ff0352-fdc8-4732-f39f-bf9c4d7552e8",
        "colab": {
          "base_uri": "https://localhost:8080/",
          "height": 136
        }
      },
      "cell_type": "code",
      "source": [
        "model.fit_generator(initial_epoch=37, \n",
        "                    generator=train_generator,\n",
        "                    steps_per_epoch=STEP_SIZE_TRAIN,\n",
        "                    validation_data=val_generator,\n",
        "                    validation_steps=STEP_SIZE_VALID,\n",
        "                    epochs=38, verbose=1,\n",
        "                    callbacks=[lr_reducer, early_stopping, csv_logger, model_checkpoint])"
      ],
      "execution_count": 0,
      "outputs": [
        {
          "output_type": "stream",
          "text": [
            "Epoch 38/38\n",
            "4166/4166 [==============================] - 9052s 2s/step - loss: 0.9444 - acc: 0.8071 - val_loss: 1.6717 - val_acc: 0.6051\n",
            "Current learning rate 4e-05 84949\n",
            "Saving to id 12O9biUN8KrdZybj_0ZU6p-Rad8yznYBw\n",
            "\n",
            "Epoch 00038: saving model to Imagenetvdbig.hdf5\n"
          ],
          "name": "stdout"
        },
        {
          "output_type": "execute_result",
          "data": {
            "text/plain": [
              "<keras.callbacks.History at 0x7f06ed917128>"
            ]
          },
          "metadata": {
            "tags": []
          },
          "execution_count": 18
        }
      ]
    }
  ]
}